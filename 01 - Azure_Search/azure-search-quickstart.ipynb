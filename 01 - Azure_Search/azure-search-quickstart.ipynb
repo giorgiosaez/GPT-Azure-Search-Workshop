{
  "cells": [
    {
      "attachments": {},
      "cell_type": "markdown",
      "source": [
        "# Create a search index in Azure Cognitive Search using the Azure SDK for Python"
      ],
      "metadata": {}
    },
    {
      "attachments": {},
      "cell_type": "markdown",
      "source": [
        "This Jupyter Notebook steps through creating, loading, and querying an index in Azure Cognitive Search index by calling the azure-search-documents library in the Azure SDK for Python. "
      ],
      "metadata": {}
    },
    {
      "cell_type": "code",
      "source": [
        "# Uncomment the next line if you need to install the azure-search-documents client library:\n",
        "!pip install azure-search-documents --pre\n",
        "\n",
        "# This sample uses version: 11.1.0\n",
        "!pip show azure-search-documents\n",
        "\n",
        "import os\n",
        "from azure.core.credentials import AzureKeyCredential\n",
        "from azure.search.documents.indexes import SearchIndexClient \n",
        "from azure.search.documents import SearchClient\n",
        "from azure.search.documents.indexes.models import (\n",
        "    ComplexField,\n",
        "    CorsOptions,\n",
        "    SearchIndex,\n",
        "    ScoringProfile,\n",
        "    SearchFieldDataType,\n",
        "    SimpleField,\n",
        "    SearchableField\n",
        ")"
      ],
      "outputs": [
        {
          "output_type": "stream",
          "name": "stdout",
          "text": "Requirement already satisfied: azure-search-documents in /anaconda/envs/azureml_py38/lib/python3.8/site-packages (11.4.0b3)\nRequirement already satisfied: isodate>=0.6.0 in /anaconda/envs/azureml_py38/lib/python3.8/site-packages (from azure-search-documents) (0.6.1)\nRequirement already satisfied: azure-core<2.0.0,>=1.24.0 in /anaconda/envs/azureml_py38/lib/python3.8/site-packages (from azure-search-documents) (1.26.1)\nRequirement already satisfied: azure-common~=1.1 in /anaconda/envs/azureml_py38/lib/python3.8/site-packages (from azure-search-documents) (1.1.28)\nRequirement already satisfied: six in /anaconda/envs/azureml_py38/lib/python3.8/site-packages (from isodate>=0.6.0->azure-search-documents) (1.16.0)\nRequirement already satisfied: typing-extensions>=4.0.1 in /anaconda/envs/azureml_py38/lib/python3.8/site-packages (from azure-core<2.0.0,>=1.24.0->azure-search-documents) (4.4.0)\nRequirement already satisfied: requests>=2.18.4 in /anaconda/envs/azureml_py38/lib/python3.8/site-packages (from azure-core<2.0.0,>=1.24.0->azure-search-documents) (2.28.1)\nRequirement already satisfied: charset-normalizer<3,>=2 in /anaconda/envs/azureml_py38/lib/python3.8/site-packages (from requests>=2.18.4->azure-core<2.0.0,>=1.24.0->azure-search-documents) (2.1.1)\nRequirement already satisfied: certifi>=2017.4.17 in /anaconda/envs/azureml_py38/lib/python3.8/site-packages (from requests>=2.18.4->azure-core<2.0.0,>=1.24.0->azure-search-documents) (2022.9.24)\nRequirement already satisfied: idna<4,>=2.5 in /anaconda/envs/azureml_py38/lib/python3.8/site-packages (from requests>=2.18.4->azure-core<2.0.0,>=1.24.0->azure-search-documents) (3.4)\nRequirement already satisfied: urllib3<1.27,>=1.21.1 in /anaconda/envs/azureml_py38/lib/python3.8/site-packages (from requests>=2.18.4->azure-core<2.0.0,>=1.24.0->azure-search-documents) (1.26.13)\nName: azure-search-documents\nVersion: 11.4.0b3\nSummary: Microsoft Azure Cognitive Search Client Library for Python\nHome-page: https://github.com/Azure/azure-sdk-for-python/tree/main/sdk/search/azure-search-documents\nAuthor: Microsoft Corporation\nAuthor-email: ascl@microsoft.com\nLicense: MIT License\nLocation: /anaconda/envs/azureml_py38/lib/python3.8/site-packages\nRequires: azure-common, azure-core, isodate\nRequired-by: \n"
        }
      ],
      "execution_count": 27,
      "metadata": {
        "gather": {
          "logged": 1677599346811
        }
      }
    },
    {
      "attachments": {},
      "cell_type": "markdown",
      "source": [
        "In this step, initialize the search client used to make each request. Provide the name and admin API key of your search service. If you get ConnectionError \"Failed to establish a new connection\", verify that the api-key is a primary or secondary admin key, and not a query key."
      ],
      "metadata": {}
    },
    {
      "cell_type": "code",
      "source": [
        "import os\r\n",
        "from azure.keyvault.secrets import SecretClient\r\n",
        "from azure.identity import DefaultAzureCredential\r\n",
        "\r\n",
        "keyVaultName = \"gios-keyvault\"\r\n",
        "KVUri = f\"https://gios-keyvault.vault.azure.net/\"\r\n",
        "\r\n",
        "credential = DefaultAzureCredential()\r\n",
        "client = SecretClient(vault_url=KVUri, credential=credential)\r\n",
        "\r\n",
        "print(f\"Retrieving your secrets from KV_NAME.\")\r\n",
        "\r\n",
        "os.environ[\"AZURE_SEARCH_API_KEY\"] = client.get_secret(\"AZURE-SEARCH-API-KEY\").value\r\n",
        "os.environ[\"AZURE_SEARCH_SERVICE_ENDPOINT\"] = client.get_secret(\"AZURE-SEARCH-ENDPOINT\").value"
      ],
      "outputs": [
        {
          "output_type": "stream",
          "name": "stdout",
          "text": "Retrieving your secrets from KV_NAME.\n"
        }
      ],
      "execution_count": 28,
      "metadata": {
        "jupyter": {
          "source_hidden": false,
          "outputs_hidden": false
        },
        "nteract": {
          "transient": {
            "deleting": false
          }
        },
        "gather": {
          "logged": 1677599347059
        }
      }
    },
    {
      "cell_type": "code",
      "source": [
        "# Set the service endpoint and API key from the environment\n",
        "\n",
        "service_name = \"gios-cognitivesearch\"#\"YOUR-SEARCH-SERVICE-NAME\"\n",
        "admin_key = os.environ[\"AZURE_SEARCH_API_KEY\"]#\"YOUR-SEARCH-SERVICE-ADMIN-API-KEY\"\n",
        "\n",
        "index_name = \"hotels-quickstart\"\n",
        "\n",
        "# Create an SDK client\n",
        "endpoint = \"https://{}.search.windows.net/\".format(service_name)\n",
        "admin_client = SearchIndexClient(endpoint=endpoint,\n",
        "                      index_name=index_name,\n",
        "                      credential=AzureKeyCredential(admin_key))\n",
        "\n",
        "search_client = SearchClient(endpoint=endpoint,\n",
        "                      index_name=index_name,\n",
        "                      credential=AzureKeyCredential(admin_key))\n"
      ],
      "outputs": [],
      "execution_count": 29,
      "metadata": {
        "gather": {
          "logged": 1677599347210
        }
      }
    },
    {
      "cell_type": "markdown",
      "source": [
        "In the third cell, the index \"hotels-quickstart\" will be deleted if it previously existed."
      ],
      "metadata": {}
    },
    {
      "cell_type": "code",
      "source": [
        "# Delete the index if it exists\n",
        "try:\n",
        "    result = admin_client.delete_index(index_name)\n",
        "    print ('Index', index_name, 'Deleted')\n",
        "except Exception as ex:\n",
        "    print (ex)\n"
      ],
      "outputs": [
        {
          "output_type": "stream",
          "name": "stdout",
          "text": "Index hotels-quickstart Deleted\n"
        }
      ],
      "execution_count": 30,
      "metadata": {
        "gather": {
          "logged": 1677599347361
        }
      }
    },
    {
      "cell_type": "markdown",
      "source": [
        "Specify the index definition, including the fields that define each search document. Fields have a name, type, and attributes that determine how you can use the field. For example, \"searchable\" enables full text search on the field, \"retrievable\" means it can be returned in results, and \"filterable\" allows the field to be used in a filter expression."
      ],
      "metadata": {}
    },
    {
      "cell_type": "code",
      "source": [
        "# Specify the index schema\n",
        "name = index_name\n",
        "fields = [\n",
        "        SimpleField(name=\"HotelId\", type=SearchFieldDataType.String, key=True),\n",
        "        SearchableField(name=\"HotelName\", type=SearchFieldDataType.String, sortable=True),\n",
        "        SearchableField(name=\"Description\", type=SearchFieldDataType.String, analyzer_name=\"en.lucene\"),\n",
        "        SearchableField(name=\"Description_fr\", type=SearchFieldDataType.String, analyzer_name=\"fr.lucene\"),\n",
        "        SearchableField(name=\"Category\", type=SearchFieldDataType.String, facetable=True, filterable=True, sortable=True),\n",
        "    \n",
        "        SearchableField(name=\"Tags\", collection=True, type=SearchFieldDataType.String, facetable=True, filterable=True),\n",
        "\n",
        "        SimpleField(name=\"ParkingIncluded\", type=SearchFieldDataType.Boolean, facetable=True, filterable=True, sortable=True),\n",
        "        SimpleField(name=\"LastRenovationDate\", type=SearchFieldDataType.DateTimeOffset, facetable=True, filterable=True, sortable=True),\n",
        "        SimpleField(name=\"Rating\", type=SearchFieldDataType.Double, facetable=True, filterable=True, sortable=True),\n",
        "\n",
        "        ComplexField(name=\"Address\", fields=[\n",
        "            SearchableField(name=\"StreetAddress\", type=SearchFieldDataType.String),\n",
        "            SearchableField(name=\"City\", type=SearchFieldDataType.String, facetable=True, filterable=True, sortable=True),\n",
        "            SearchableField(name=\"StateProvince\", type=SearchFieldDataType.String, facetable=True, filterable=True, sortable=True),\n",
        "            SearchableField(name=\"PostalCode\", type=SearchFieldDataType.String, facetable=True, filterable=True, sortable=True),\n",
        "            SearchableField(name=\"Country\", type=SearchFieldDataType.String, facetable=True, filterable=True, sortable=True),\n",
        "        ])\n",
        "    ]\n",
        "cors_options = CorsOptions(allowed_origins=[\"*\"], max_age_in_seconds=60)\n",
        "scoring_profiles = []\n",
        "suggester = [{'name': 'sg', 'source_fields': ['Tags', 'Address/City', 'Address/Country']}]\n"
      ],
      "outputs": [],
      "execution_count": 31,
      "metadata": {
        "gather": {
          "logged": 1677599347506
        }
      }
    },
    {
      "cell_type": "markdown",
      "source": [
        "In the following cell, formulate the request. This create_index request targets the indexes collection of your search service and creates an index based on the index schema you provided in the previous cell."
      ],
      "metadata": {}
    },
    {
      "cell_type": "code",
      "source": [
        "index = SearchIndex(\n",
        "    name=name,\n",
        "    fields=fields,\n",
        "    scoring_profiles=scoring_profiles,\n",
        "    suggesters = suggester,\n",
        "    cors_options=cors_options)\n",
        "\n",
        "try:\n",
        "    result = admin_client.create_index(index)\n",
        "    print ('Index', result.name, 'created')\n",
        "except Exception as ex:\n",
        "    print (ex)"
      ],
      "outputs": [
        {
          "output_type": "stream",
          "name": "stdout",
          "text": "Index hotels-quickstart created\n"
        }
      ],
      "execution_count": 32,
      "metadata": {
        "gather": {
          "logged": 1677599348034
        }
      }
    },
    {
      "cell_type": "markdown",
      "source": [
        "Next, provide four documents that conform to the index schema. Specify an upload action for each document."
      ],
      "metadata": {}
    },
    {
      "cell_type": "code",
      "source": [
        "documents = [\n",
        "    {\n",
        "    \"@search.action\": \"upload\",\n",
        "    \"HotelId\": \"1\",\n",
        "    \"HotelName\": \"Secret Point Motel\",\n",
        "    \"Description\": \"The hotel is ideally located on the main commercial artery of the city in the heart of New York. A few minutes away is Time's Square and the historic centre of the city, as well as other places of interest that make New York one of America's most attractive and cosmopolitan cities.\",\n",
        "    \"Description_fr\": \"L'hôtel est idéalement situé sur la principale artère commerciale de la ville en plein cœur de New York. A quelques minutes se trouve la place du temps et le centre historique de la ville, ainsi que d'autres lieux d'intérêt qui font de New York l'une des villes les plus attractives et cosmopolites de l'Amérique.\",\n",
        "    \"Category\": \"Boutique\",\n",
        "    \"Tags\": [ \"pool\", \"air conditioning\", \"concierge\" ],\n",
        "    \"ParkingIncluded\": \"false\",\n",
        "    \"LastRenovationDate\": \"1970-01-18T00:00:00Z\",\n",
        "    \"Rating\": 3.60,\n",
        "    \"Address\": {\n",
        "        \"StreetAddress\": \"677 5th Ave\",\n",
        "        \"City\": \"New York\",\n",
        "        \"StateProvince\": \"NY\",\n",
        "        \"PostalCode\": \"10022\",\n",
        "        \"Country\": \"USA\"\n",
        "        }\n",
        "    },\n",
        "    {\n",
        "    \"@search.action\": \"upload\",\n",
        "    \"HotelId\": \"2\",\n",
        "    \"HotelName\": \"Twin Dome Motel\",\n",
        "    \"Description\": \"The hotel is situated in a  nineteenth century plaza, which has been expanded and renovated to the highest architectural standards to create a modern, functional and first-class hotel in which art and unique historical elements coexist with the most modern comforts.\",\n",
        "    \"Description_fr\": \"L'hôtel est situé dans une place du XIXe siècle, qui a été agrandie et rénovée aux plus hautes normes architecturales pour créer un hôtel moderne, fonctionnel et de première classe dans lequel l'art et les éléments historiques uniques coexistent avec le confort le plus moderne.\",\n",
        "    \"Category\": \"Boutique\",\n",
        "    \"Tags\": [ \"pool\", \"free wifi\", \"concierge\" ],\n",
        "    \"ParkingIncluded\": \"false\",\n",
        "    \"LastRenovationDate\": \"1979-02-18T00:00:00Z\",\n",
        "    \"Rating\": 3.60,\n",
        "    \"Address\": {\n",
        "        \"StreetAddress\": \"140 University Town Center Dr\",\n",
        "        \"City\": \"Sarasota\",\n",
        "        \"StateProvince\": \"FL\",\n",
        "        \"PostalCode\": \"34243\",\n",
        "        \"Country\": \"USA\"\n",
        "        }\n",
        "    },\n",
        "    {\n",
        "    \"@search.action\": \"upload\",\n",
        "    \"HotelId\": \"3\",\n",
        "    \"HotelName\": \"Triple Landscape Hotel\",\n",
        "    \"Description\": \"The Hotel stands out for its gastronomic excellence under the management of William Dough, who advises on and oversees all of the Hotel's restaurant services.\",\n",
        "    \"Description_fr\": \"L'hôtel est situé dans une place du XIXe siècle, qui a été agrandie et rénovée aux plus hautes normes architecturales pour créer un hôtel moderne, fonctionnel et de première classe dans lequel l'art et les éléments historiques uniques coexistent avec le confort le plus moderne.\",\n",
        "    \"Category\": \"Resort and Spa\",\n",
        "    \"Tags\": [ \"air conditioning\", \"bar\", \"continental breakfast\" ],\n",
        "    \"ParkingIncluded\": \"true\",\n",
        "    \"LastRenovationDate\": \"2015-09-20T00:00:00Z\",\n",
        "    \"Rating\": 4.80,\n",
        "    \"Address\": {\n",
        "        \"StreetAddress\": \"3393 Peachtree Rd\",\n",
        "        \"City\": \"Atlanta\",\n",
        "        \"StateProvince\": \"GA\",\n",
        "        \"PostalCode\": \"30326\",\n",
        "        \"Country\": \"USA\"\n",
        "        }\n",
        "    },\n",
        "    {\n",
        "    \"@search.action\": \"upload\",\n",
        "    \"HotelId\": \"4\",\n",
        "    \"HotelName\": \"Sublime Cliff Hotel\",\n",
        "    \"Description\": \"Sublime Cliff Hotel is located in the heart of the historic center of Sublime in an extremely vibrant and lively area within short walking distance to the sites and landmarks of the city and is surrounded by the extraordinary beauty of churches, buildings, shops and monuments. Sublime Cliff is part of a lovingly restored 1800 palace.\",\n",
        "    \"Description_fr\": \"Le sublime Cliff Hotel est situé au coeur du centre historique de sublime dans un quartier extrêmement animé et vivant, à courte distance de marche des sites et monuments de la ville et est entouré par l'extraordinaire beauté des églises, des bâtiments, des commerces et Monuments. Sublime Cliff fait partie d'un Palace 1800 restauré avec amour.\",\n",
        "    \"Category\": \"Boutique\",\n",
        "    \"Tags\": [ \"concierge\", \"view\", \"24-hour front desk service\" ],\n",
        "    \"ParkingIncluded\": \"true\",\n",
        "    \"LastRenovationDate\": \"1960-02-06T00:00:00Z\",\n",
        "    \"Rating\": 4.60,\n",
        "    \"Address\": {\n",
        "        \"StreetAddress\": \"7400 San Pedro Ave\",\n",
        "        \"City\": \"San Antonio\",\n",
        "        \"StateProvince\": \"TX\",\n",
        "        \"PostalCode\": \"78216\",\n",
        "        \"Country\": \"USA\"\n",
        "        }\n",
        "    }\n",
        "]"
      ],
      "outputs": [],
      "execution_count": 33,
      "metadata": {
        "gather": {
          "logged": 1677599348185
        }
      }
    },
    {
      "cell_type": "markdown",
      "source": [
        "Formulate the request. This upload_documents request targets the docs collection of the hotels-quickstart index and pushes the documents provided in the previous step into the search index."
      ],
      "metadata": {}
    },
    {
      "cell_type": "code",
      "source": [
        "try:\n",
        "    result = search_client.upload_documents(documents=documents)\n",
        "    print(\"Upload of new document succeeded: {}\".format(result[0].succeeded))\n",
        "except Exception as ex:\n",
        "    print (ex.message)"
      ],
      "outputs": [
        {
          "output_type": "stream",
          "name": "stdout",
          "text": "Upload of new document succeeded: True\n"
        }
      ],
      "execution_count": 34,
      "metadata": {
        "gather": {
          "logged": 1677599348815
        }
      }
    },
    {
      "cell_type": "markdown",
      "source": [
        "You are now ready to run some queries. For this operation, use search_client.  \n",
        "\n",
        "The next cell contains a query expression that executes an empty search (`search=*`), returning an unranked list (search score = 1.0) of arbitrary documents. Because there is no criteria, all documents are included in results. This query prints just two of the fields in each document. It also adds `include_total_count=True` to get a count of all documents (4) in the results."
      ],
      "metadata": {}
    },
    {
      "cell_type": "code",
      "source": [
        "results =  search_client.search(search_text=\"*\", include_total_count=True)\n",
        "\n",
        "print ('Total Documents Matching Query:', results.get_count())\n",
        "for result in results:\n",
        "    print(\"{}: {}\".format(result[\"HotelId\"], result[\"HotelName\"]))\n"
      ],
      "outputs": [
        {
          "output_type": "stream",
          "name": "stdout",
          "text": "Total Documents Matching Query: 4\n3: Triple Landscape Hotel\n2: Twin Dome Motel\n4: Sublime Cliff Hotel\n1: Secret Point Motel\n"
        }
      ],
      "execution_count": 44,
      "metadata": {
        "gather": {
          "logged": 1677604317039
        }
      }
    },
    {
      "cell_type": "markdown",
      "source": [
        "The next query adds whole terms to the search expression (\"wifi\"). This query specifies that results contain only those fields in the select statement. Limiting the fields that come back minimizes the amount of data sent back over the wire and reduces search latency."
      ],
      "metadata": {}
    },
    {
      "cell_type": "code",
      "source": [
        "results =  search_client.search(search_text=\"wifi\", include_total_count=True, select='HotelId,HotelName,Tags')\n",
        "\n",
        "print ('Total Documents Matching Query:', results.get_count())\n",
        "for result in results:\n",
        "    print(\"{}: {}: {}\".format(result[\"HotelId\"], result[\"HotelName\"], result[\"Tags\"]))\n"
      ],
      "outputs": [
        {
          "output_type": "stream",
          "name": "stdout",
          "text": "Total Documents Matching Query: 0\n"
        }
      ],
      "execution_count": 36,
      "metadata": {
        "gather": {
          "logged": 1677599349189
        }
      }
    },
    {
      "cell_type": "markdown",
      "source": [
        "This query adds a filter expression, returning only those hotels with a rating greater than 4, sorted in descending order."
      ],
      "metadata": {}
    },
    {
      "cell_type": "code",
      "source": [
        "results =  search_client.search(search_text=\"hotels\", select='HotelId,HotelName,Rating', filter='Rating gt 4', order_by='Rating desc')\n",
        "\n",
        "for result in results:\n",
        "    print(\"{}: {} - {} rating\".format(result[\"HotelId\"], result[\"HotelName\"], result[\"Rating\"]))"
      ],
      "outputs": [],
      "execution_count": 37,
      "metadata": {
        "gather": {
          "logged": 1677599349332
        }
      }
    },
    {
      "attachments": {},
      "cell_type": "markdown",
      "source": [
        "In the next query, add search_fields to scope query matching to a single field. If you're using a newer version of the client library, search_fields is an array. Add brackets around 'HotelName' if you get an error."
      ],
      "metadata": {}
    },
    {
      "cell_type": "code",
      "source": [
        "results =  search_client.search(search_text=\"sublime\", search_fields=['HotelName'], select='HotelId,HotelName')\n",
        "\n",
        "for result in results:\n",
        "    print(\"{}: {}\".format(result[\"HotelId\"], result[\"HotelName\"]))"
      ],
      "outputs": [],
      "execution_count": 38,
      "metadata": {
        "gather": {
          "logged": 1677599349466
        }
      }
    },
    {
      "cell_type": "markdown",
      "source": [
        "Facets are labels that can be used to compose facet navigation structure. This query returns facets and counts for Category."
      ],
      "metadata": {}
    },
    {
      "cell_type": "code",
      "source": [
        "results =  search_client.search(search_text=\"*\", facets=[\"Category\"])\n",
        "\n",
        "facets = results.get_facets()\n",
        "\n",
        "for facet in facets[\"Category\"]:\n",
        "    print(\"    {}\".format(facet))"
      ],
      "outputs": [],
      "execution_count": 39,
      "metadata": {
        "gather": {
          "logged": 1677599349599
        }
      }
    },
    {
      "cell_type": "markdown",
      "source": [
        "In this example, look up a specific document based on its key. You would typically want to return a document when a user clicks on a document in a search result."
      ],
      "metadata": {}
    },
    {
      "cell_type": "code",
      "source": [
        "result = search_client.get_document(key=\"3\")\n",
        "\n",
        "print(\"Details for hotel '3' are:\")\n",
        "print(\"        Name: {}\".format(result[\"HotelName\"]))\n",
        "print(\"      Rating: {}\".format(result[\"Rating\"]))\n",
        "print(\"    Category: {}\".format(result[\"Category\"]))"
      ],
      "outputs": [
        {
          "output_type": "stream",
          "name": "stdout",
          "text": "Details for hotel '3' are:\n        Name: Triple Landscape Hotel\n      Rating: 4.8\n    Category: Resort and Spa\n"
        }
      ],
      "execution_count": 40,
      "metadata": {
        "gather": {
          "logged": 1677599349731
        }
      }
    },
    {
      "cell_type": "markdown",
      "source": [
        "In the final example, try out the autocomplete function. This is typically used in a search box to complete partial query terms as the user types into the search box.\n",
        "\n",
        "When the index was created, a suggester named \"sg\" was also created. Part of the suggester definition includes fields that can be used in autocomplete queries. To simulate user input, assume that the letters \"sa\" represent characters typed by the user. The results include potential term matches for the \"sa\" input."
      ],
      "metadata": {}
    },
    {
      "cell_type": "code",
      "source": [
        "search_suggestion = 'sa'\n",
        "results = search_client.autocomplete(search_text=search_suggestion, suggester_name=\"sg\", mode='twoTerms')\n",
        "\n",
        "print(\"Autocomplete for:\", search_suggestion)\n",
        "for result in results:\n",
        "    print (result['text'])"
      ],
      "outputs": [
        {
          "output_type": "stream",
          "name": "stdout",
          "text": "Autocomplete for: sa\n"
        }
      ],
      "execution_count": 41,
      "metadata": {
        "gather": {
          "logged": 1677599349862
        }
      }
    },
    {
      "cell_type": "markdown",
      "source": [
        "If you are finished with this index, you can delete it by running the following lines. Deleting unnecessary indexes frees up space for stepping through more quickstarts and tutorials."
      ],
      "metadata": {}
    },
    {
      "cell_type": "code",
      "source": [
        "# try:\n",
        "#     result = admin_client.delete_index(index_name)\n",
        "#     print ('Index', index_name, 'Deleted')\n",
        "# except Exception as ex:\n",
        "#     print (ex)"
      ],
      "outputs": [],
      "execution_count": 42,
      "metadata": {
        "gather": {
          "logged": 1677599349996
        }
      }
    },
    {
      "cell_type": "markdown",
      "source": [
        "Confirm the index deletion by running the following script that lists all of the indexes on your search service. If hotels-quickstart is not listed, you've successfully deleted the index and have completed this quickstart."
      ],
      "metadata": {}
    },
    {
      "cell_type": "code",
      "source": [
        "try:\n",
        "    result = admin_client.get_index(index_name)\n",
        "    print (result)\n",
        "except Exception as ex:\n",
        "    print (ex)\n"
      ],
      "outputs": [
        {
          "output_type": "stream",
          "name": "stdout",
          "text": "{'additional_properties': {}, 'name': 'hotels-quickstart', 'fields': [<azure.search.documents.indexes.models._index.SearchField object at 0x7efcad08cd30>, <azure.search.documents.indexes.models._index.SearchField object at 0x7efcad08dd80>, <azure.search.documents.indexes.models._index.SearchField object at 0x7efcad08ec50>, <azure.search.documents.indexes.models._index.SearchField object at 0x7efcad08f160>, <azure.search.documents.indexes.models._index.SearchField object at 0x7efcad08efb0>, <azure.search.documents.indexes.models._index.SearchField object at 0x7efcad08ece0>, <azure.search.documents.indexes.models._index.SearchField object at 0x7efcad08d8d0>, <azure.search.documents.indexes.models._index.SearchField object at 0x7efcad08ec80>, <azure.search.documents.indexes.models._index.SearchField object at 0x7efcad08ec20>, <azure.search.documents.indexes.models._index.SearchField object at 0x7efcad08ccd0>], 'scoring_profiles': [], 'default_scoring_profile': None, 'cors_options': <azure.search.documents.indexes._generated.models._models_py3.CorsOptions object at 0x7efcad08dfc0>, 'suggesters': [<azure.search.documents.indexes._generated.models._models_py3.Suggester object at 0x7efcad08c460>], 'analyzers': None, 'tokenizers': None, 'token_filters': [], 'char_filters': [], 'normalizers': [], 'encryption_key': None, 'similarity': <azure.search.documents.indexes._generated.models._models_py3.BM25Similarity object at 0x7efcad08fc10>, 'semantic_settings': None, 'e_tag': '\"0x8DB19A353109F95\"'}\n"
        }
      ],
      "execution_count": 43,
      "metadata": {
        "gather": {
          "logged": 1677599350143
        }
      }
    }
  ],
  "metadata": {
    "kernelspec": {
      "name": "python310-sdkv2",
      "language": "python",
      "display_name": "Python 3.10 - SDK v2"
    },
    "language_info": {
      "name": "python",
      "version": "3.10.9",
      "mimetype": "text/x-python",
      "codemirror_mode": {
        "name": "ipython",
        "version": 3
      },
      "pygments_lexer": "ipython3",
      "nbconvert_exporter": "python",
      "file_extension": ".py"
    },
    "vscode": {
      "interpreter": {
        "hash": "9ff083f0c83558f9261023d47a77b9b3eb892c62cdbe066d046abcad1a5edb5c"
      }
    },
    "microsoft": {
      "ms_spell_check": {
        "ms_spell_check_language": "en"
      },
      "host": {
        "AzureML": {
          "notebookHasBeenCompleted": true
        }
      }
    },
    "kernel_info": {
      "name": "python310-sdkv2"
    },
    "nteract": {
      "version": "nteract-front-end@1.0.0"
    }
  },
  "nbformat": 4,
  "nbformat_minor": 2
}