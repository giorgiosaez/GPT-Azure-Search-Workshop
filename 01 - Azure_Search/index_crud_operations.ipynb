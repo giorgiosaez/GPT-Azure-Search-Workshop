{
  "cells": [
    {
      "cell_type": "code",
      "source": [
        "pip install azure-search-documents --pre"
      ],
      "outputs": [
        {
          "output_type": "stream",
          "name": "stdout",
          "text": "Requirement already satisfied: azure-search-documents in /anaconda/envs/azureml_py310_sdkv2/lib/python3.10/site-packages (11.4.0b3)\nRequirement already satisfied: azure-core<2.0.0,>=1.24.0 in /anaconda/envs/azureml_py310_sdkv2/lib/python3.10/site-packages (from azure-search-documents) (1.26.2)\nRequirement already satisfied: azure-common~=1.1 in /anaconda/envs/azureml_py310_sdkv2/lib/python3.10/site-packages (from azure-search-documents) (1.1.28)\nRequirement already satisfied: isodate>=0.6.0 in /anaconda/envs/azureml_py310_sdkv2/lib/python3.10/site-packages (from azure-search-documents) (0.6.1)\nRequirement already satisfied: typing-extensions>=4.0.1 in /anaconda/envs/azureml_py310_sdkv2/lib/python3.10/site-packages (from azure-core<2.0.0,>=1.24.0->azure-search-documents) (4.4.0)\nRequirement already satisfied: requests>=2.18.4 in /anaconda/envs/azureml_py310_sdkv2/lib/python3.10/site-packages (from azure-core<2.0.0,>=1.24.0->azure-search-documents) (2.28.2)\nRequirement already satisfied: six>=1.11.0 in /anaconda/envs/azureml_py310_sdkv2/lib/python3.10/site-packages (from azure-core<2.0.0,>=1.24.0->azure-search-documents) (1.16.0)\nRequirement already satisfied: urllib3<1.27,>=1.21.1 in /anaconda/envs/azureml_py310_sdkv2/lib/python3.10/site-packages (from requests>=2.18.4->azure-core<2.0.0,>=1.24.0->azure-search-documents) (1.26.14)\nRequirement already satisfied: certifi>=2017.4.17 in /anaconda/envs/azureml_py310_sdkv2/lib/python3.10/site-packages (from requests>=2.18.4->azure-core<2.0.0,>=1.24.0->azure-search-documents) (2022.6.15)\nRequirement already satisfied: charset-normalizer<4,>=2 in /anaconda/envs/azureml_py310_sdkv2/lib/python3.10/site-packages (from requests>=2.18.4->azure-core<2.0.0,>=1.24.0->azure-search-documents) (3.0.1)\nRequirement already satisfied: idna<4,>=2.5 in /anaconda/envs/azureml_py310_sdkv2/lib/python3.10/site-packages (from requests>=2.18.4->azure-core<2.0.0,>=1.24.0->azure-search-documents) (3.4)\nNote: you may need to restart the kernel to use updated packages.\n"
        }
      ],
      "execution_count": 1,
      "metadata": {
        "jupyter": {
          "source_hidden": false,
          "outputs_hidden": false
        },
        "nteract": {
          "transient": {
            "deleting": false
          }
        },
        "gather": {
          "logged": 1677599011801
        }
      }
    },
    {
      "cell_type": "code",
      "source": [
        "import os\r\n",
        "from azure.keyvault.secrets import SecretClient\r\n",
        "from azure.identity import DefaultAzureCredential\r\n",
        "\r\n",
        "keyVaultName = \"gios-keyvault\"\r\n",
        "KVUri = f\"https://gios-keyvault.vault.azure.net/\"\r\n",
        "\r\n",
        "credential = DefaultAzureCredential()\r\n",
        "client = SecretClient(vault_url=KVUri, credential=credential)\r\n",
        "\r\n",
        "print(f\"Retrieving your secrets from KV_NAME.\")\r\n",
        "\r\n",
        "os.environ[\"AZURE_SEARCH_API_KEY\"] = client.get_secret(\"AZURE-SEARCH-API-KEY\").value\r\n",
        "os.environ[\"AZURE_SEARCH_SERVICE_ENDPOINT\"] = client.get_secret(\"AZURE-SEARCH-ENDPOINT\").value"
      ],
      "outputs": [
        {
          "output_type": "stream",
          "name": "stdout",
          "text": "Retrieving your secrets from KV_NAME.\n"
        }
      ],
      "execution_count": 5,
      "metadata": {
        "jupyter": {
          "source_hidden": false,
          "outputs_hidden": false
        },
        "nteract": {
          "transient": {
            "deleting": false
          }
        },
        "gather": {
          "logged": 1677561916028
        }
      }
    },
    {
      "cell_type": "code",
      "source": [
        "# coding: utf-8\r\n",
        "\r\n",
        "# -------------------------------------------------------------------------\r\n",
        "# Copyright (c) Microsoft Corporation. All rights reserved.\r\n",
        "# Licensed under the MIT License. See License.txt in the project root for\r\n",
        "# license information.\r\n",
        "# --------------------------------------------------------------------------\r\n",
        "\r\n",
        "\"\"\"\r\n",
        "FILE: sample_index_crud_operations.py\r\n",
        "DESCRIPTION:\r\n",
        "    This sample demonstrates how to get, create, update, or delete an index.\r\n",
        "USAGE:\r\n",
        "    python sample_index_crud_operations.py\r\n",
        "\r\n",
        "    Set the environment variables with your own values before running the sample:\r\n",
        "    1) AZURE_SEARCH_SERVICE_ENDPOINT - the endpoint of your Azure Cognitive Search service\r\n",
        "    2) AZURE_SEARCH_API_KEY - your search API key\r\n",
        "\"\"\"\r\n",
        "\r\n",
        "\r\n",
        "import os\r\n",
        "\r\n",
        "service_endpoint = os.getenv(\"AZURE_SEARCH_SERVICE_ENDPOINT\")\r\n",
        "key = os.getenv(\"AZURE_SEARCH_API_KEY\")\r\n",
        "\r\n",
        "from azure.core.credentials import AzureKeyCredential\r\n",
        "from azure.search.documents.indexes import SearchIndexClient\r\n",
        "from azure.search.documents.indexes.models import (\r\n",
        "    ComplexField,\r\n",
        "    CorsOptions,\r\n",
        "    SearchIndex,\r\n",
        "    ScoringProfile,\r\n",
        "    SearchFieldDataType,\r\n",
        "    SimpleField,\r\n",
        "    SearchableField,\r\n",
        ")\r\n",
        "\r\n",
        "client = SearchIndexClient(service_endpoint, AzureKeyCredential(key))\r\n",
        "\r\n",
        "def create_index():\r\n",
        "    # [START create_index]\r\n",
        "    name = \"hotels\"\r\n",
        "    fields = [\r\n",
        "        SimpleField(name=\"hotelId\", type=SearchFieldDataType.String, key=True),\r\n",
        "        SimpleField(name=\"baseRate\", type=SearchFieldDataType.Double),\r\n",
        "        SearchableField(name=\"description\", type=SearchFieldDataType.String, collection=True),\r\n",
        "        ComplexField(name=\"address\", fields=[\r\n",
        "            SimpleField(name=\"streetAddress\", type=SearchFieldDataType.String),\r\n",
        "            SimpleField(name=\"city\", type=SearchFieldDataType.String),\r\n",
        "        ], collection=True)\r\n",
        "    ]\r\n",
        "    cors_options = CorsOptions(allowed_origins=[\"*\"], max_age_in_seconds=60)\r\n",
        "    scoring_profiles = []\r\n",
        "    index = SearchIndex(\r\n",
        "        name=name,\r\n",
        "        fields=fields,\r\n",
        "        scoring_profiles=scoring_profiles,\r\n",
        "        cors_options=cors_options)\r\n",
        "\r\n",
        "    result = client.create_index(index)\r\n",
        "    # [END create_index]\r\n",
        "\r\n",
        "def get_index():\r\n",
        "    # [START get_index]\r\n",
        "    name = \"hotels\"\r\n",
        "    result = client.get_index(name)\r\n",
        "    # [END get_index]\r\n",
        "\r\n",
        "def update_index():\r\n",
        "    # [START update_index]\r\n",
        "    name = \"hotels\"\r\n",
        "    fields = [\r\n",
        "        SimpleField(name=\"hotelId\", type=SearchFieldDataType.String, key=True),\r\n",
        "        SimpleField(name=\"baseRate\", type=SearchFieldDataType.Double),\r\n",
        "        SearchableField(name=\"description\", type=SearchFieldDataType.String, collection=True),\r\n",
        "        SearchableField(name=\"hotelName\", type=SearchFieldDataType.String),\r\n",
        "        ComplexField(name=\"address\", fields=[\r\n",
        "            SimpleField(name=\"streetAddress\", type=SearchFieldDataType.String),\r\n",
        "            SimpleField(name=\"city\", type=SearchFieldDataType.String),\r\n",
        "            SimpleField(name=\"state\", type=SearchFieldDataType.String),\r\n",
        "        ], collection=True)\r\n",
        "    ]\r\n",
        "    cors_options = CorsOptions(allowed_origins=[\"*\"], max_age_in_seconds=60)\r\n",
        "    scoring_profile = ScoringProfile(\r\n",
        "        name=\"MyProfile\"\r\n",
        "    )\r\n",
        "    scoring_profiles = []\r\n",
        "    scoring_profiles.append(scoring_profile)\r\n",
        "    index = SearchIndex(\r\n",
        "        name=name,\r\n",
        "        fields=fields,\r\n",
        "        scoring_profiles=scoring_profiles,\r\n",
        "        cors_options=cors_options)\r\n",
        "\r\n",
        "    result = client.create_or_update_index(index=index)\r\n",
        "    # [END update_index]\r\n",
        "\r\n",
        "def delete_index():\r\n",
        "    # [START delete_index]\r\n",
        "    name = \"hotels\"\r\n",
        "    client.delete_index(name)\r\n",
        "    # [END delete_index]\r\n",
        "\r\n",
        "if __name__ == '__main__':\r\n",
        "    create_index()\r\n",
        "    get_index()\r\n",
        "    update_index()\r\n",
        "    #delete_index()"
      ],
      "outputs": [],
      "execution_count": 7,
      "metadata": {
        "gather": {
          "logged": 1677562003287
        }
      }
    },
    {
      "cell_type": "markdown",
      "source": [
        "- Azure Cognitive Search\r\n",
        "- Azure Cognitive Services\r\n",
        "- Azure Blob Storage\r\n",
        "\r\n"
      ],
      "metadata": {
        "nteract": {
          "transient": {
            "deleting": false
          }
        }
      }
    },
    {
      "cell_type": "markdown",
      "source": [
        "## References\r\n",
        "\r\n",
        "- https://github.com/Azure/azure-sdk-for-python/tree/main/sdk/search/azure-search-documents/samples"
      ],
      "metadata": {
        "nteract": {
          "transient": {
            "deleting": false
          }
        }
      }
    }
  ],
  "metadata": {
    "kernelspec": {
      "name": "python310-sdkv2",
      "language": "python",
      "display_name": "Python 3.10 - SDK v2"
    },
    "language_info": {
      "name": "python",
      "version": "3.10.9",
      "mimetype": "text/x-python",
      "codemirror_mode": {
        "name": "ipython",
        "version": 3
      },
      "pygments_lexer": "ipython3",
      "nbconvert_exporter": "python",
      "file_extension": ".py"
    },
    "microsoft": {
      "ms_spell_check": {
        "ms_spell_check_language": "en"
      },
      "host": {
        "AzureML": {
          "notebookHasBeenCompleted": true
        }
      }
    },
    "kernel_info": {
      "name": "python310-sdkv2"
    },
    "nteract": {
      "version": "nteract-front-end@1.0.0"
    }
  },
  "nbformat": 4,
  "nbformat_minor": 2
}