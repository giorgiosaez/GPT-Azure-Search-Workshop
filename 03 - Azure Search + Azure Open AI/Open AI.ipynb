{
  "cells": [
    {
      "cell_type": "markdown",
      "source": [],
      "metadata": {
        "nteract": {
          "transient": {
            "deleting": false
          }
        }
      }
    },
    {
      "cell_type": "markdown",
      "source": [],
      "metadata": {
        "nteract": {
          "transient": {
            "deleting": false
          }
        }
      }
    },
    {
      "cell_type": "markdown",
      "source": [
        "## Connect to KeyVault"
      ],
      "metadata": {
        "nteract": {
          "transient": {
            "deleting": false
          }
        }
      }
    },
    {
      "cell_type": "code",
      "source": [
        "import os\n",
        "from azure.keyvault.secrets import SecretClient\n",
        "from azure.identity import DefaultAzureCredential\n",
        "\n",
        "keyVaultName = \"gios-keyvault\"\n",
        "KVUri = f\"https://gios-keyvault.vault.azure.net/\"\n",
        "\n",
        "credential = DefaultAzureCredential()\n",
        "client = SecretClient(vault_url=KVUri, credential=credential)\n",
        "\n",
        "print(f\"Retrieving your secrets from {keyVaultName}.\")\n",
        "\n",
        "os.environ[\"AZURE_OPENAI_API_KEY\"] = client.get_secret(\"AZURE-OPENAI-API-KEY\").value\n",
        "os.environ[\"AZURE_OPENAI_ENDPOINT\"] = client.get_secret(\"AZURE-OPENAI-ENDPOINT\").value\n",
        "\n",
        "os.environ[\"AZURE_SEARCH_API_KEY\"] = client.get_secret(\"AZURE-SEARCH-API-KEY\").value\n",
        "os.environ[\"AZURE_SEARCH_SERVICE_ENDPOINT\"] = client.get_secret(\"AZURE-SEARCH-ENDPOINT\").value\n",
        "\n",
        "print(\"Done\")"
      ],
      "outputs": [
        {
          "output_type": "stream",
          "name": "stdout",
          "text": "Retrieving your secrets from gios-keyvault.\nDone\n"
        }
      ],
      "execution_count": 1,
      "metadata": {
        "gather": {
          "logged": 1677605831085
        },
        "jupyter": {
          "outputs_hidden": false,
          "source_hidden": false
        },
        "nteract": {
          "transient": {
            "deleting": false
          }
        }
      }
    },
    {
      "cell_type": "code",
      "source": [],
      "outputs": [],
      "execution_count": null,
      "metadata": {
        "jupyter": {
          "outputs_hidden": false,
          "source_hidden": false
        },
        "nteract": {
          "transient": {
            "deleting": false
          }
        }
      }
    },
    {
      "cell_type": "code",
      "source": [
        "import openai\n",
        "import re\n",
        "import requests\n",
        "import sys\n",
        "from num2words import num2words\n",
        "import os\n",
        "import pandas as pd\n",
        "import numpy as np\n",
        "from openai.embeddings_utils import get_embedding, cosine_similarity\n",
        "from transformers import GPT2TokenizerFast\n",
        "\n",
        "API_KEY = os.getenv(\"AZURE_OPENAI_API_KEY\") \n",
        "RESOURCE_ENDPOINT = os.getenv(\"AZURE_OPENAI_ENDPOINT\") \n",
        "\n",
        "openai.api_type = \"azure\"\n",
        "openai.api_key = API_KEY\n",
        "openai.api_base = RESOURCE_ENDPOINT\n",
        "openai.api_version = \"2022-12-01\"\n",
        "\n",
        "url = openai.api_base + \"/openai/deployments?api-version=2022-12-01\"\n",
        "\n",
        "r = requests.get(url, headers={\"api-key\": API_KEY})\n",
        "\n",
        "print(r.text)"
      ],
      "outputs": [
        {
          "output_type": "stream",
          "name": "stderr",
          "text": "/anaconda/envs/azureml_py310_sdkv2/lib/python3.10/site-packages/tqdm/auto.py:22: TqdmWarning: IProgress not found. Please update jupyter and ipywidgets. See https://ipywidgets.readthedocs.io/en/stable/user_install.html\n  from .autonotebook import tqdm as notebook_tqdm\nNone of PyTorch, TensorFlow >= 2.0, or Flax have been found. Models won't be available and only tokenizers, configuration and file/data utilities can be used.\n"
        },
        {
          "output_type": "stream",
          "name": "stdout",
          "text": "{\n  \"data\": [\n    {\n      \"scale_settings\": {\n        \"scale_type\": \"standard\"\n      },\n      \"model\": \"text-davinci-002\",\n      \"owner\": \"organization-owner\",\n      \"id\": \"Davinci-002\",\n      \"status\": \"succeeded\",\n      \"created_at\": 1677170437,\n      \"updated_at\": 1677170437,\n      \"object\": \"deployment\"\n    },\n    {\n      \"scale_settings\": {\n        \"scale_type\": \"standard\"\n      },\n      \"model\": \"text-ada-001\",\n      \"owner\": \"organization-owner\",\n      \"id\": \"ada-001\",\n      \"status\": \"succeeded\",\n      \"created_at\": 1677170559,\n      \"updated_at\": 1677170559,\n      \"object\": \"deployment\"\n    },\n    {\n      \"scale_settings\": {\n        \"scale_type\": \"standard\"\n      },\n      \"model\": \"text-search-curie-doc-001\",\n      \"owner\": \"organization-owner\",\n      \"id\": \"text-search-curie-doc-001\",\n      \"status\": \"succeeded\",\n      \"created_at\": 1677549363,\n      \"updated_at\": 1677549363,\n      \"object\": \"deployment\"\n    },\n    {\n      \"scale_settings\": {\n        \"scale_type\": \"standard\"\n      },\n      \"model\": \"text-search-curie-query-001\",\n      \"owner\": \"organization-owner\",\n      \"id\": \"text-search-curie-query-001\",\n      \"status\": \"succeeded\",\n      \"created_at\": 1677549391,\n      \"updated_at\": 1677549391,\n      \"object\": \"deployment\"\n    }\n  ],\n  \"object\": \"list\"\n}\n"
        }
      ],
      "execution_count": 2,
      "metadata": {
        "gather": {
          "logged": 1677605833153
        },
        "jupyter": {
          "outputs_hidden": false,
          "source_hidden": false
        },
        "nteract": {
          "transient": {
            "deleting": false
          }
        }
      }
    },
    {
      "cell_type": "code",
      "source": [
        "from azure.search.documents import SearchClient\n",
        "from azure.core.credentials import AzureKeyCredential\n",
        "\n",
        "# Set the service endpoint and API key from the environment\n",
        "\n",
        "service_name = \"gios-cognitivesearch\"#\"YOUR-SEARCH-SERVICE-NAME\"\n",
        "admin_key = os.environ[\"AZURE_SEARCH_API_KEY\"]#\"YOUR-SEARCH-SERVICE-ADMIN-API-KEY\"\n",
        "\n",
        "index_name = \"hotels-quickstart\"\n",
        "\n",
        "# Create an SDK client\n",
        "endpoint = \"https://{}.search.windows.net/\".format(service_name)\n",
        "\n",
        "\n",
        "search_client = SearchClient(endpoint=endpoint,\n",
        "                      index_name=index_name,\n",
        "                      credential=AzureKeyCredential(admin_key))"
      ],
      "outputs": [],
      "execution_count": 3,
      "metadata": {
        "gather": {
          "logged": 1677606205198
        },
        "jupyter": {
          "outputs_hidden": false,
          "source_hidden": false
        },
        "nteract": {
          "transient": {
            "deleting": false
          }
        }
      }
    },
    {
      "cell_type": "code",
      "source": [
        "results"
      ],
      "outputs": [
        {
          "output_type": "execute_result",
          "execution_count": 56,
          "data": {
            "text/plain": "<iterator object azure.core.paging.ItemPaged at 0x7f91361b7100>"
          },
          "metadata": {}
        }
      ],
      "execution_count": 56,
      "metadata": {
        "gather": {
          "logged": 1677616538141
        }
      }
    },
    {
      "cell_type": "code",
      "source": [
        "def build_prompt(QUERY,SEARCHRESULTS) : \r\n",
        "\r\n",
        "    return \"\"\"Answer each question by extracting key facts from as many inputs paragraphs as possible.\r\n",
        "\r\n",
        "    ###\r\n",
        "    Input paragraphs:\r\n",
        "    - Record numbers of solar panels were shipped in the United States during 2021. U.S. shipments of solar photovoltaic (PV) modules (solar panels) rose to a record electricity-generating capacity of 28.8 million peak kilowatts (kW) in 2021, from 21.8 million peak kW in 2020, based on data from our Annual Photovoltaic Module Shipments Report. Continued demand for U.S. solar capacity drove this increase in solar panel shipments in 2021. U.S. solar panel shipments include imports, exports, and domestically produced and shipped panels. In 2021, about 80% of U.S. solar panel module shipments were imports, primarily from Asia. U.S. solar panel shipments closely track domestic solar capacity additions; differences between the two usually result from the lag time between shipment and installation. We categorize solar capacity additions as either utility-scale (facilities with one megawatt of capacity or more) or small-scale (largely residential solar installations). The United States added 13.2 gigawatts (GW) of utility-scale solar capacity in 2021, an annual record and 25% more than the 10.6 GW added in 2020, according to our Annual Electric Generator Report. Additions of utility-scale solar capacity reached a record high, despite project delays, supply chain constraints, and volatile pricing. Small-scale solar capacity installations in the United States increased by 5.4 GW in 2021, up 23% from 2020 (4.4 GW). Most of the small- scale solar capacity added in 2021 was installed on homes. Residential installations totaled more than 3.9 GW in 2021, compared with 2.9 GW in 2020. The cost of solar panels has declined significantly since 2010. The average value (a proxy for price) of panel shipments has decreased from $1.96 per peak kW in 2010 to $0.34 per peak kW in 2021. Despite supply chain constraints and higher material costs in 2021, the average value of solar panels decreased 11% from 2020. In 2021, the top five destination states for U.S. solar panel shipments were: 1. California (5.09 million peak kW) 2. Texas (4.31 million peak kW) 3. Florida (1.80 million peak kW) 4. Georgia (1.15 million peak kW) 5. Illinois (1.12 million peak kW) These five states accounted for 46% of all U.S. shipments.\r\n",
        "    - California fuel mix changes in response to September heat wave -10 0 10 20 30 40 50 60 Sep 4 Sep 5 Sep 6 Sep 7 Sep 8 Sep 9 Sep 10 CAISO electricity supply by source (Sep 4–Sep 10, 2022) gigawatts natural gas solar wind hydro imports all other nuclear batteries (discharging) batteries (charging) Data source: California Independent System Operator An extreme heat wave affected California the week of September 4, 2022, driving record-breaking demand for electricity to meet increased air-conditioning use. On September 6, a new record was set in the California Independent System Operator’s (CAISO) territory. CAISO, the grid operator for most of the state, issued appeals for consumer energy conservation throughout the week, as well as Energy Emergency Alerts each day, to help reduce electricity demand and prevent rolling power outages. CAISO predominately used natural gas, electricity imports, and hydroelectric sources during the highest demand hours to meet the record-breaking demand, which was a change from the typical mix. For brief periods during the week of September 4, CAISO used natural gas for as much as 60%—and never less than 30%—of the generation mix to meet electricity demand. California typically uses a mix of solar, wind, imports, hydroelectric, and natural gas sources for electricity generation. The exact mix depends on the time of day, the availability of sources, and the price that power plants set to sell electricity to the grid. This year, up to the record-setting demand week in September, CAISO’s generation mix included: 40% from solar, wind, nuclear, batteries, and other sources 32% from natural gas 20% from imports 7% from hydroelectric The mix relies slightly more on natural gas during the evening hours from 6:00 p.m. to 9:00 p.m., when electricity demand peaks and solar generation wanes. During the week of September 4, 2022, however, natural gas contributed nearly one-half of the resource mix in CAISO; nuclear, solar, wind, batteries, and other resources decreased to a 24% share. In California, natural gas units are often the last resource turned on to meet demand because they can be turned on after the sun sets in the evening when cooling demand remains high. When demand reaches record highs, seldom-used (less efficient, more expensive) natural gas units are needed to meet demand. 0% 25% 50% 75% 100% ...the week of Sep 4 from 5 p.m. to 9 p.m....this year CAISO's electricity generation mix so far... (Jan 1, 2022–Sept 12, 2022) percentage natural gas solar wind hydro batteries imports all other nuclear ...this year from 5 p.m. to 9 p.m. ...the week of Sep 4 Data source: California Independent System Operator Principal contributor: M. Tyson Brown\r\n",
        "    - In 2020, 3.7% of U.S. single-family homes, including mobile homes, generated electricity from small-scale solar systems (solar panels installed on a home or building), according to our 2020 Residential Energy Consumption Survey (RECS). In 2018, 1.6% of U.S. commercial buildings had small-scale solar generation, according to our 2018 Commercial Energy Consumption Survey (CBECS). The presence of small-scale solar generation varied by a number of characteristics. Some of the largest differences were based on region. The West Census Region, where 8.9% of single-family homes (2020 data) had small-scale solar generation, had the highest percentage of homes with small-scale solar generation, mostly in California. Of commercial buildings in the West, 3.8% (48,000) had small-scale solar generation (2018 data). The Northeast Census Region had the second-largest percentage of homes with small-scale solar generation at 4.7% (2020 data). Similarly, for commercial buildings, 2.5% (20,000) had small-scale solar generation (2018 data). These two regions generally have had policies and incentives that have fostered growth of small-scale solar\r\n",
        "\r\n",
        "    Question:\r\n",
        "    Is small-scale solar growing? How much is it adding?\r\n",
        "\r\n",
        "    Answer:\r\n",
        "    Yes, it's growing. Record numbers of solar panels were shipped in the United States during 2021. U.S. shipments of solar photovoltaic (PV) modules (solar panels) rose to a record electricity-generating capacity of 28.8 million peak kilowatts (kW) in 2021, from 21.8 million peak kW in 2020, based on data from our Annual Photovoltaic Module Shipments Report. In 2020, 3.7% of U.S. single-family homes, including mobile homes, generated electricity from small-scale solar systems (solar panels installed on a home or building), according to our 2020 Residential Energy Consumption Survey (RECS).\r\n",
        "\r\n",
        "    ###\r\n",
        "    Input paragraphs:\r\n",
        "    {}\r\n",
        "\r\n",
        "    Question:\r\n",
        "    {}\r\n",
        "\r\n",
        "    Answer:\r\n",
        "    \"\"\".format(SEARCHRESULTS,QUERY)\r\n"
      ],
      "outputs": [],
      "execution_count": 60,
      "metadata": {
        "jupyter": {
          "source_hidden": false,
          "outputs_hidden": false
        },
        "nteract": {
          "transient": {
            "deleting": false
          }
        },
        "gather": {
          "logged": 1677618483062
        }
      }
    },
    {
      "cell_type": "code",
      "source": [
        "print(SearchResults)"
      ],
      "outputs": [
        {
          "output_type": "stream",
          "name": "stdout",
          "text": "- The Hotel stands out for its gastronomic excellence under the management of William Dough, who advises on and oversees all of the Hotel's restaurant services. \n - Sublime Cliff Hotel is located in the heart of the historic center of Sublime in an extremely vibrant and lively area within short walking distance to the sites and landmarks of the city and is surrounded by the extraordinary beauty of churches, buildings, shops and monuments. Sublime Cliff is part of a lovingly restored 1800 palace. \n - The hotel is ideally located on the main commercial artery of the city in the heart of New York. A few minutes away is Time's Square and the historic centre of the city, as well as other places of interest that make New York one of America's most attractive and cosmopolitan cities. \n - The hotel is situated in a  nineteenth century plaza, which has been expanded and renovated to the highest architectural standards to create a modern, functional and first-class hotel in which art and unique historical elements coexist with the most modern comforts. \n \n"
        }
      ],
      "execution_count": 69,
      "metadata": {
        "jupyter": {
          "source_hidden": false,
          "outputs_hidden": false
        },
        "nteract": {
          "transient": {
            "deleting": false
          }
        },
        "gather": {
          "logged": 1677618832075
        }
      }
    },
    {
      "cell_type": "code",
      "source": [
        "query=\"What can you tell me about the hotel?\"\n",
        "\n",
        "results =  search_client.search(search_text=query, include_total_count=True, search_mode=\"any\")\n",
        "\n",
        "print ('Total Documents Matching Query:', results.get_count())\n",
        "\n",
        "SearchResults = \"\"\n",
        "\n",
        "for result in results:\n",
        "    print(\"{}: {}: {}\".format(result[\"HotelId\"], result[\"HotelName\"] , result[\"Description\"] ))\n",
        " \n",
        "    SearchResults += \"- \"+result[\"Description\"]+\" \\n \" \n",
        "\n",
        "# prompt = '{\\\n",
        "#     \"QUERY\":'+query+', \\\n",
        "#     \"SearchResults\": '+SearchResults+'\\\n",
        "#     }Tl;dr'\n",
        "\n",
        "prompt = build_prompt(query, SearchResults)\n",
        "\n",
        "# prompt = SearchResults + \"Tl;dr\"\n",
        "completion = openai.Completion.create(deployment_id=\"Davinci-002\",\n",
        "                                     prompt=prompt, stop=\".\", temperature=0,\n",
        "                                     echo=False,max_tokens= 100,\n",
        ")\n",
        "print(\"-----------------Result-----------------\")                      \n",
        "# print(f\"{prompt}{completion['choices'][0]['text']}.\")\n",
        "\n",
        "print(f\"{completion['choices'][0]['text']}.\")\n"
      ],
      "outputs": [
        {
          "output_type": "stream",
          "name": "stdout",
          "text": "Total Documents Matching Query: 4\n3: Triple Landscape Hotel: The Hotel stands out for its gastronomic excellence under the management of William Dough, who advises on and oversees all of the Hotel's restaurant services.\n4: Sublime Cliff Hotel: Sublime Cliff Hotel is located in the heart of the historic center of Sublime in an extremely vibrant and lively area within short walking distance to the sites and landmarks of the city and is surrounded by the extraordinary beauty of churches, buildings, shops and monuments. Sublime Cliff is part of a lovingly restored 1800 palace.\n1: Secret Point Motel: The hotel is ideally located on the main commercial artery of the city in the heart of New York. A few minutes away is Time's Square and the historic centre of the city, as well as other places of interest that make New York one of America's most attractive and cosmopolitan cities.\n2: Twin Dome Motel: The hotel is situated in a  nineteenth century plaza, which has been expanded and renovated to the highest architectural standards to create a modern, functional and first-class hotel in which art and unique historical elements coexist with the most modern comforts.\n-----------------Result-----------------\n\n\nThe Hotel stands out for its gastronomic excellence under the management of William Dough, who advises on and oversees all of the Hotel's restaurant services.\n"
        }
      ],
      "execution_count": 83,
      "metadata": {
        "gather": {
          "logged": 1677692406052
        },
        "jupyter": {
          "outputs_hidden": false,
          "source_hidden": false
        },
        "nteract": {
          "transient": {
            "deleting": false
          }
        }
      }
    },
    {
      "cell_type": "code",
      "source": [
        "completion"
      ],
      "outputs": [
        {
          "output_type": "execute_result",
          "execution_count": 66,
          "data": {
            "text/plain": "<OpenAIObject text_completion id=cmpl-6p1XOtm6AztrkeicwLP7hmMUFMW3j at 0x7f9136322430> JSON: {\n  \"choices\": [\n    {\n      \"finish_reason\": \"stop\",\n      \"index\": 0,\n      \"logprobs\": null,\n      \"text\": \"\\n\\nThe Hotel stands out for its gastronomic excellence under the management of William Dough, who advises on and oversees all of the Hotel's restaurant services\"\n    }\n  ],\n  \"created\": 1677618658,\n  \"id\": \"cmpl-6p1XOtm6AztrkeicwLP7hmMUFMW3j\",\n  \"model\": \"text-davinci-002\",\n  \"object\": \"text_completion\",\n  \"usage\": {\n    \"completion_tokens\": 31,\n    \"prompt_tokens\": 1785,\n    \"total_tokens\": 1816\n  }\n}"
          },
          "metadata": {}
        }
      ],
      "execution_count": 66,
      "metadata": {
        "gather": {
          "logged": 1677618695315
        },
        "jupyter": {
          "outputs_hidden": false,
          "source_hidden": false
        },
        "nteract": {
          "transient": {
            "deleting": false
          }
        }
      }
    },
    {
      "cell_type": "code",
      "source": [],
      "outputs": [],
      "execution_count": null,
      "metadata": {
        "gather": {
          "logged": 1677607143178
        },
        "jupyter": {
          "outputs_hidden": false,
          "source_hidden": false
        },
        "nteract": {
          "transient": {
            "deleting": false
          }
        }
      }
    },
    {
      "cell_type": "code",
      "source": [],
      "outputs": [],
      "execution_count": null,
      "metadata": {
        "gather": {
          "logged": 1677607056265
        },
        "jupyter": {
          "outputs_hidden": false,
          "source_hidden": false
        },
        "nteract": {
          "transient": {
            "deleting": false
          }
        }
      }
    },
    {
      "cell_type": "code",
      "source": [
        "def concatenate_values(dictionary, string):\n",
        "    descriptions = [result[string] for result in dictionary]\n",
        "    return \" \".join(descriptions)\n",
        "\n",
        "prompt = concatenate_values(results,\"HotelName\")\n",
        "prompt"
      ],
      "outputs": [
        {
          "output_type": "execute_result",
          "execution_count": 6,
          "data": {
            "text/plain": "''"
          },
          "metadata": {}
        }
      ],
      "execution_count": 6,
      "metadata": {
        "gather": {
          "logged": 1677606916195
        },
        "jupyter": {
          "outputs_hidden": false,
          "source_hidden": false
        },
        "nteract": {
          "transient": {
            "deleting": false
          }
        }
      }
    },
    {
      "cell_type": "code",
      "source": [
        "summary = \"\"\n",
        "\n",
        "#Get completions\n",
        "\n",
        "Query = \"\"\n",
        "SearchResults = \"\"\n",
        "\n"
      ],
      "outputs": [],
      "execution_count": null,
      "metadata": {
        "jupyter": {
          "outputs_hidden": false,
          "source_hidden": false
        },
        "nteract": {
          "transient": {
            "deleting": false
          }
        }
      }
    },
    {
      "cell_type": "code",
      "source": [
        "prompt = \"The food was delicious and the waiter\"\n",
        "completion = openai.Completion.create(deployment_id=\"Davinci-002\",\n",
        "                                     prompt=prompt, stop=\".\", temperature=0)\n",
        "                                \n",
        "print(f\"{prompt}{completion['choices'][0]['text']}.\")\n"
      ],
      "outputs": [
        {
          "output_type": "stream",
          "name": "stdout",
          "text": "The food was delicious and the waiter was very attentive.\n"
        }
      ],
      "execution_count": 22,
      "metadata": {}
    },
    {
      "cell_type": "code",
      "source": [
        "prompt = \"Say this is a test\"\n",
        "completion = openai.Completion.create(deployment_id=\"Davinci-002\",\n",
        "                                     prompt=prompt, stop=\".\", temperature=0)\n",
        "                                \n",
        "print(f\"{prompt}{completion['choices'][0]['text']}.\")"
      ],
      "outputs": [
        {
          "output_type": "stream",
          "name": "stdout",
          "text": "Say this is a test\n\nThis is a test.\n"
        }
      ],
      "execution_count": 58,
      "metadata": {
        "gather": {
          "logged": 1677606140088
        },
        "jupyter": {
          "outputs_hidden": false,
          "source_hidden": false
        },
        "nteract": {
          "transient": {
            "deleting": false
          }
        }
      }
    }
  ],
  "metadata": {
    "kernel_info": {
      "name": "python310-sdkv2"
    },
    "kernelspec": {
      "name": "python310-sdkv2",
      "language": "python",
      "display_name": "Python 3.10 - SDK v2"
    },
    "language_info": {
      "name": "python",
      "version": "3.10.9",
      "mimetype": "text/x-python",
      "codemirror_mode": {
        "name": "ipython",
        "version": 3
      },
      "pygments_lexer": "ipython3",
      "nbconvert_exporter": "python",
      "file_extension": ".py"
    },
    "microsoft": {
      "host": {
        "AzureML": {
          "notebookHasBeenCompleted": true
        }
      },
      "ms_spell_check": {
        "ms_spell_check_language": "en"
      }
    },
    "nteract": {
      "version": "nteract-front-end@1.0.0"
    }
  },
  "nbformat": 4,
  "nbformat_minor": 2
}